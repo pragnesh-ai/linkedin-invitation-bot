{
 "cells": [
  {
   "cell_type": "code",
   "execution_count": 1,
   "metadata": {},
   "outputs": [],
   "source": [
    "# pip install selenium\n",
    "# pip install PyAutoGUI\n",
    "#pip install webdriver-manager --user"
   ]
  },
  {
   "cell_type": "code",
   "execution_count": 2,
   "metadata": {},
   "outputs": [],
   "source": [
    "import time\n",
    "from selenium import webdriver #selemnium webdrivers\n",
    "from selenium.webdriver.common.keys import Keys\n",
    "import pyautogui as pag\n",
    "from random import randint"
   ]
  },
  {
   "cell_type": "code",
   "execution_count": 3,
   "metadata": {},
   "outputs": [],
   "source": [
    "#how many connection you want ?\n",
    "connection_count=2"
   ]
  },
  {
   "cell_type": "code",
   "execution_count": 4,
   "metadata": {},
   "outputs": [],
   "source": [
    "#define driver\n",
    "driver = webdriver.Chrome(r'chromedriver_path/chromedriver.exe')"
   ]
  },
  {
   "cell_type": "code",
   "execution_count": 5,
   "metadata": {},
   "outputs": [],
   "source": [
    "base_url = 'https://www.linkedin.com'\n",
    "login_url = base_url + '/login/'\n",
    "feed_url = base_url + '/feed'\n",
    "mynetwork=base_url+'/mynetwork/'"
   ]
  },
  {
   "cell_type": "code",
   "execution_count": 6,
   "metadata": {},
   "outputs": [],
   "source": [
    "# signin ino linkdin app\n",
    "driver.get('https://www.linkedin.com/login?fromSignIn=true&trk=guest_homepage-basic_nav-header-signin')"
   ]
  },
  {
   "cell_type": "code",
   "execution_count": 7,
   "metadata": {},
   "outputs": [],
   "source": [
    "driver.find_element_by_id('username').send_keys('Enter Your Username')\n",
    "driver.find_element_by_id('password').send_keys('Enter Your Password')\n",
    "driver.find_element_by_xpath(\"//button[contains(text(), 'Sign in')]\").click()"
   ]
  },
  {
   "cell_type": "code",
   "execution_count": 8,
   "metadata": {},
   "outputs": [],
   "source": [
    "#KEY WORD\n",
    "key_word=\"nvidia\"\n",
    "#search in globl type head\n",
    "search = driver.find_element_by_class_name('search-global-typeahead__input')\n",
    "search.send_keys(key_word)\n"
   ]
  },
  {
   "cell_type": "code",
   "execution_count": 9,
   "metadata": {},
   "outputs": [],
   "source": [
    "search.send_keys(Keys.ENTER)"
   ]
  },
  {
   "cell_type": "code",
   "execution_count": 11,
   "metadata": {},
   "outputs": [
    {
     "name": "stdout",
     "output_type": "stream",
     "text": [
      "1\n",
      "try again\n",
      "try again\n",
      "try again\n",
      "try again\n",
      "2\n"
     ]
    }
   ],
   "source": [
    "\n",
    "i=0#for scrolling the window\n",
    "#count of connection\n",
    "COUNT=0\n",
    "while COUNT!=connection_count:\n",
    "    try:\n",
    "        nextk=driver.find_element_by_class_name('artdeco-pagination__button--next')\n",
    "        if nextk:\n",
    "            nextk.click() \n",
    "    except:            \n",
    "        pass\n",
    "# for i in range(0,13):\n",
    "    i=i+1\n",
    "    sc=i*100#scroll \n",
    "    \n",
    "    try:\n",
    "        time.sleep(randint(5,7))\n",
    "        cn=driver.find_element_by_xpath('//button[text()=\"Connect\"]')\n",
    "\n",
    "        if cn:\n",
    "            cn.click() \n",
    "            time.sleep(randint(2,4))\n",
    "            driver.find_element_by_class_name('ml1').click()\n",
    "            COUNT=COUNT+1\n",
    "            print(COUNT)\n",
    "        driver.execute_script(\"window.scrollTo(0,\"+str(sc)+\")\")\n",
    "    except:\n",
    "        #try again till connection count is not completd\n",
    "        print(\"try again\")\n",
    "        driver.execute_script(\"window.scrollTo(0,\"+str(sc)+\")\")    \n"
   ]
  }
 ],
 "metadata": {
  "kernelspec": {
   "display_name": "Python 3",
   "language": "python",
   "name": "python3"
  },
  "language_info": {
   "codemirror_mode": {
    "name": "ipython",
    "version": 3
   },
   "file_extension": ".py",
   "mimetype": "text/x-python",
   "name": "python",
   "nbconvert_exporter": "python",
   "pygments_lexer": "ipython3",
   "version": "3.7.6"
  }
 },
 "nbformat": 4,
 "nbformat_minor": 4
}
